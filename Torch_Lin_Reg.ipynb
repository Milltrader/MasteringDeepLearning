{
  "nbformat": 4,
  "nbformat_minor": 0,
  "metadata": {
    "colab": {
      "provenance": [],
      "authorship_tag": "ABX9TyPHSoUBpzckJh+k2koglhdO",
      "include_colab_link": true
    },
    "kernelspec": {
      "name": "python3",
      "display_name": "Python 3"
    },
    "language_info": {
      "name": "python"
    }
  },
  "cells": [
    {
      "cell_type": "markdown",
      "metadata": {
        "id": "view-in-github",
        "colab_type": "text"
      },
      "source": [
        "<a href=\"https://colab.research.google.com/github/Milltrader/MasteringDeepLearning/blob/main/Torch_Lin_Reg.ipynb\" target=\"_parent\"><img src=\"https://colab.research.google.com/assets/colab-badge.svg\" alt=\"Open In Colab\"/></a>"
      ]
    },
    {
      "cell_type": "markdown",
      "source": [],
      "metadata": {
        "id": "yeA9-5AEJj5W"
      }
    },
    {
      "cell_type": "code",
      "source": [
        "import torch\n",
        "from torch import nn # nn contains all of PyTorch's building blocks for neural networks\n",
        "import matplotlib.pyplot as plt\n",
        "\n",
        "# Check PyTorch version\n",
        "torch.__version__"
      ],
      "metadata": {
        "colab": {
          "base_uri": "https://localhost:8080/",
          "height": 36
        },
        "id": "XEDL6BdvJl2F",
        "outputId": "c94f309b-b2d7-4f55-a803-f95ef1f6f609"
      },
      "execution_count": null,
      "outputs": [
        {
          "output_type": "execute_result",
          "data": {
            "text/plain": [
              "'2.5.1+cu124'"
            ],
            "application/vnd.google.colaboratory.intrinsic+json": {
              "type": "string"
            }
          },
          "metadata": {},
          "execution_count": 1
        }
      ]
    },
    {
      "cell_type": "code",
      "source": [
        "weight = 0.7\n",
        "bias = 0.3\n",
        "\n",
        "X = torch.arange(0,1,0.02).unsqueeze(1)\n",
        "y = weight * X + bias\n",
        "\n",
        "X[:10], y[:10]"
      ],
      "metadata": {
        "colab": {
          "base_uri": "https://localhost:8080/"
        },
        "id": "PSEm8O6CHpAe",
        "outputId": "6af9e062-30c0-4687-ef51-fbf31abe4c8b"
      },
      "execution_count": null,
      "outputs": [
        {
          "output_type": "execute_result",
          "data": {
            "text/plain": [
              "(tensor([[0.0000],\n",
              "         [0.0200],\n",
              "         [0.0400],\n",
              "         [0.0600],\n",
              "         [0.0800],\n",
              "         [0.1000],\n",
              "         [0.1200],\n",
              "         [0.1400],\n",
              "         [0.1600],\n",
              "         [0.1800]]),\n",
              " tensor([[0.3000],\n",
              "         [0.3140],\n",
              "         [0.3280],\n",
              "         [0.3420],\n",
              "         [0.3560],\n",
              "         [0.3700],\n",
              "         [0.3840],\n",
              "         [0.3980],\n",
              "         [0.4120],\n",
              "         [0.4260]]))"
            ]
          },
          "metadata": {},
          "execution_count": 2
        }
      ]
    },
    {
      "cell_type": "code",
      "source": [
        "# Create train/test split\n",
        "train_split = int(0.8 * len(X)) # 80% of data used for training set, 20% for testing\n",
        "X_train, y_train = X[:train_split], y[:train_split]\n",
        "X_test, y_test = X[train_split:], y[train_split:]\n",
        "\n",
        "len(X_train), len(y_train), len(X_test), len(y_test)"
      ],
      "metadata": {
        "colab": {
          "base_uri": "https://localhost:8080/"
        },
        "id": "hHyX-oT6IbXP",
        "outputId": "f0aca658-1b2d-4a33-8685-a4db2e943ce1"
      },
      "execution_count": null,
      "outputs": [
        {
          "output_type": "execute_result",
          "data": {
            "text/plain": [
              "(40, 40, 10, 10)"
            ]
          },
          "metadata": {},
          "execution_count": 3
        }
      ]
    },
    {
      "cell_type": "code",
      "source": [
        "def plot (train=X_train,\n",
        "          pred_train = y_train,\n",
        "          test = X_test,\n",
        "          pred_test = y_test,\n",
        "          predictions=None):\n",
        "\n",
        "    plt.figure(figsize=(10,8))\n",
        "    plt.scatter(train, pred_train, c='b', s=4, label='Training Data')\n",
        "def plot (train=X_train,\n",
        "          pred_train = y_train,\n",
        "          test = X_test,\n",
        "          pred_test = y_test,\n",
        "          predictions=None):\n",
        "\n",
        "    plt.figure(figsize=(10,8))\n",
        "    plt.scatter(train, pred_train, c='b', s=4, label='Training Data')\n",
        "    plt.scatter(test, pred_test, c='g', s=4, label='Testing Data')\n",
        "\n",
        "    if predictions is not None:\n",
        "      plt.scatter(test, predictions, c='r', s=4, label='Predictions')\n",
        "\n",
        "    plt.legend(prop={'size':14})\n",
        "    plt.show()\n",
        "    plt.legend(prop={'size':14})\n",
        "    plt.show()"
      ],
      "metadata": {
        "id": "jP0a7xmBInHI"
      },
      "execution_count": null,
      "outputs": []
    },
    {
      "cell_type": "code",
      "source": [
        "class LinearRegression(nn.Module): # Most of the torch tools are located in nn\n",
        "  def __init__(self):\n",
        "    super().__init__() # Calling a init method of the nn.Module\n",
        "    self.weights = nn.Parameter(torch.rand(1, dtype=torch.float),\n",
        "                                requires_grad=True)\n",
        "    self.bias = nn.Parameter(torch.rand(1, dtype=torch.float),\n",
        "                                requires_grad=True)\n",
        "\n",
        "  def forward(self, x: torch.Tensor) -> torch.Tensor:\n",
        "    return self.weights * x + self.bias"
      ],
      "metadata": {
        "id": "nPKord5kJDb2"
      },
      "execution_count": null,
      "outputs": []
    },
    {
      "cell_type": "markdown",
      "source": [
        "Almost everything in Pytorch comes from nn.   \n",
        "\n",
        "nn.Parameters -- weights and biases   \n",
        "nn. Module -- building blocks (layers)   \n",
        "torch.optim -- optimization methods   \n",
        "def forward()    \n"
      ],
      "metadata": {
        "id": "MtVfltvLNXot"
      }
    },
    {
      "cell_type": "code",
      "source": [
        "torch.manual_seed(52)\n",
        "\n",
        "model_0 = LinearRegression()\n",
        "\n",
        "list(model_0.parameters())"
      ],
      "metadata": {
        "colab": {
          "base_uri": "https://localhost:8080/"
        },
        "id": "bg-uSBlzbNP3",
        "outputId": "2722c195-6805-42e4-aee0-6a75aa25adca"
      },
      "execution_count": null,
      "outputs": [
        {
          "output_type": "execute_result",
          "data": {
            "text/plain": [
              "[Parameter containing:\n",
              " tensor([0.7162], requires_grad=True),\n",
              " Parameter containing:\n",
              " tensor([0.7838], requires_grad=True)]"
            ]
          },
          "metadata": {},
          "execution_count": 6
        }
      ]
    },
    {
      "cell_type": "code",
      "source": [
        "model_0.state_dict()"
      ],
      "metadata": {
        "colab": {
          "base_uri": "https://localhost:8080/"
        },
        "id": "MI8sQ9Jrdvjg",
        "outputId": "ca77db4b-ea45-4dc4-e7a6-3d597ecd01a9"
      },
      "execution_count": null,
      "outputs": [
        {
          "output_type": "execute_result",
          "data": {
            "text/plain": [
              "OrderedDict([('weights', tensor([0.7162])), ('bias', tensor([0.7838]))])"
            ]
          },
          "metadata": {},
          "execution_count": 7
        }
      ]
    },
    {
      "cell_type": "code",
      "source": [
        "# Make prediction with the model\n",
        "# Because we are using inference, we are not computing the gradients\n",
        "with torch.inference_mode():\n",
        "  y_preds = model_0(X_test)"
      ],
      "metadata": {
        "id": "8vALnrXqeqML"
      },
      "execution_count": null,
      "outputs": []
    },
    {
      "cell_type": "code",
      "source": [
        "# Same thing\n",
        "with torch.no_grad():\n",
        "    y_preds = model_0(X_test)\n"
      ],
      "metadata": {
        "id": "2zei7YNUgh15"
      },
      "execution_count": null,
      "outputs": []
    },
    {
      "cell_type": "code",
      "source": [
        "print(f\"Number of samples in the training set: {len(X_train)}\")\n",
        "print(f\"Number of samples in the testing set: {len(X_test)}\")\n",
        "print(f\"Predicted values: {y_preds}\")"
      ],
      "metadata": {
        "colab": {
          "base_uri": "https://localhost:8080/"
        },
        "id": "9uBTtPXmgkQJ",
        "outputId": "0a45a029-d101-4204-8fb2-413ad7f02bb0"
      },
      "execution_count": null,
      "outputs": [
        {
          "output_type": "stream",
          "name": "stdout",
          "text": [
            "Number of samples in the training set: 40\n",
            "Number of samples in the testing set: 10\n",
            "Predicted values: tensor([[1.3568],\n",
            "        [1.3711],\n",
            "        [1.3854],\n",
            "        [1.3998],\n",
            "        [1.4141],\n",
            "        [1.4284],\n",
            "        [1.4427],\n",
            "        [1.4571],\n",
            "        [1.4714],\n",
            "        [1.4857]])\n"
          ]
        }
      ]
    },
    {
      "cell_type": "code",
      "source": [
        "y_test - y_preds"
      ],
      "metadata": {
        "colab": {
          "base_uri": "https://localhost:8080/"
        },
        "id": "ExjStFsghOAe",
        "outputId": "ba7da569-3f2b-46c5-ca73-976cecb38b8f"
      },
      "execution_count": null,
      "outputs": [
        {
          "output_type": "execute_result",
          "data": {
            "text/plain": [
              "tensor([[-0.4968],\n",
              "        [-0.4971],\n",
              "        [-0.4974],\n",
              "        [-0.4978],\n",
              "        [-0.4981],\n",
              "        [-0.4984],\n",
              "        [-0.4987],\n",
              "        [-0.4991],\n",
              "        [-0.4994],\n",
              "        [-0.4997]])"
            ]
          },
          "metadata": {},
          "execution_count": 11
        }
      ]
    },
    {
      "cell_type": "code",
      "source": [
        "loss_fn = nn.L1Loss() # MAE\n",
        "\n",
        "optimizer = torch.optim.SGD(params=model_0.parameters(),\n",
        "                            lr=0.01)\n",
        "\n"
      ],
      "metadata": {
        "id": "1drx_QSNTkjR"
      },
      "execution_count": null,
      "outputs": []
    },
    {
      "cell_type": "markdown",
      "source": [
        "### Training Loop\n",
        "\n",
        "\n",
        "\n",
        "1.   Forward Pass - model(train)\n",
        "2.   Loss Calculation - loss = loss_fn(y_pred, y_train)\n",
        "3.   Zero Grads = optimizer.zero_grad()\n",
        "4.   Backpropagation = loss.backward()\n",
        "5.   Update Optimizer = optimizer.step()\n",
        "\n"
      ],
      "metadata": {
        "id": "OxImcOeIUcbS"
      }
    },
    {
      "cell_type": "code",
      "source": [
        "torch.manual_seed(52)\n",
        "epochs = 200\n",
        "\n",
        "loss_history_train = []\n",
        "loss_history_test = []\n",
        "epoch_history =[]\n",
        "\n",
        "for epoch in range(epochs):\n",
        "\n",
        "  model_0.train()\n",
        "  y_pred = model_0(X_train)\n",
        "  loss = loss_fn(y_pred, y_train)\n",
        "  optimizer.zero_grad()\n",
        "  loss.backward()\n",
        "  optimizer.step()\n",
        "  model_0.eval()\n",
        "\n",
        "  with torch.inference_mode():\n",
        "    test_pred = model_0(X_test)\n",
        "    test_loss = loss_fn(test_pred, y_test)\n",
        "\n",
        "    if  epoch % 10 == 0:\n",
        "        epoch_history.append(epoch)\n",
        "        loss_history_train.append(loss.detach())\n",
        "        loss_history_test.append(test_loss.detach())\n",
        "        print(f\"Epoch: {epoch} | Loss: {loss} | Test Loss: {test_loss}\")\n",
        "\n"
      ],
      "metadata": {
        "id": "26lRu4JUT2-H",
        "colab": {
          "base_uri": "https://localhost:8080/"
        },
        "outputId": "78d48fd8-23bd-4cd8-d688-069267417a07"
      },
      "execution_count": null,
      "outputs": [
        {
          "output_type": "stream",
          "name": "stdout",
          "text": [
            "Epoch: 0 | Loss: 0.4901285767555237 | Test Loss: 0.48478102684020996\n",
            "Epoch: 10 | Loss: 0.374918669462204 | Test Loss: 0.3500711917877197\n",
            "Epoch: 20 | Loss: 0.25970882177352905 | Test Loss: 0.21536138653755188\n",
            "Epoch: 30 | Loss: 0.14449895918369293 | Test Loss: 0.08065153658390045\n",
            "Epoch: 40 | Loss: 0.03715788200497627 | Test Loss: 0.043384235352277756\n",
            "Epoch: 50 | Loss: 0.026606405153870583 | Test Loss: 0.05915175750851631\n",
            "Epoch: 60 | Loss: 0.02311151660978794 | Test Loss: 0.053283363580703735\n",
            "Epoch: 70 | Loss: 0.0196791123598814 | Test Loss: 0.04501080513000488\n",
            "Epoch: 80 | Loss: 0.016246333718299866 | Test Loss: 0.03742514178156853\n",
            "Epoch: 90 | Loss: 0.012814301066100597 | Test Loss: 0.029152613133192062\n",
            "Epoch: 100 | Loss: 0.009375492110848427 | Test Loss: 0.020880049094557762\n",
            "Epoch: 110 | Loss: 0.005944402422755957 | Test Loss: 0.013294410891830921\n",
            "Epoch: 120 | Loss: 0.002510686870664358 | Test Loss: 0.005021864082664251\n",
            "Epoch: 130 | Loss: 0.006037505809217691 | Test Loss: 0.0041247783228755\n",
            "Epoch: 140 | Loss: 0.006037505809217691 | Test Loss: 0.0041247783228755\n",
            "Epoch: 150 | Loss: 0.006037505809217691 | Test Loss: 0.0041247783228755\n",
            "Epoch: 160 | Loss: 0.006037505809217691 | Test Loss: 0.0041247783228755\n",
            "Epoch: 170 | Loss: 0.006037505809217691 | Test Loss: 0.0041247783228755\n",
            "Epoch: 180 | Loss: 0.006037505809217691 | Test Loss: 0.0041247783228755\n",
            "Epoch: 190 | Loss: 0.006037505809217691 | Test Loss: 0.0041247783228755\n"
          ]
        }
      ]
    },
    {
      "cell_type": "code",
      "source": [
        "plt.plot(epoch_history, loss_history_train, label='Train Loss')\n",
        "plt.plot(epoch_history, loss_history_test, label='Test Loss')\n",
        "plt.title('Training and Testing Loss')\n",
        "plt.xlabel('Epochs')\n",
        "plt.ylabel('Loss')\n",
        "plt.legend()"
      ],
      "metadata": {
        "colab": {
          "base_uri": "https://localhost:8080/",
          "height": 489
        },
        "id": "lb03ny_3q0PW",
        "outputId": "3d6e58c3-ab6a-4209-c629-13267b1c5fcc"
      },
      "execution_count": null,
      "outputs": [
        {
          "output_type": "execute_result",
          "data": {
            "text/plain": [
              "<matplotlib.legend.Legend at 0x7ff8033ab390>"
            ]
          },
          "metadata": {},
          "execution_count": 14
        },
        {
          "output_type": "display_data",
          "data": {
            "text/plain": [
              "<Figure size 640x480 with 1 Axes>"
            ],
            "image/png": "[encoded data removed]"
          },
          "metadata": {}
        }
      ]
    },
    {
      "cell_type": "code",
      "source": [
        "# Find our model's learned parameters\n",
        "print(\"The model learned the following values for weights and bias:\")\n",
        "print(model_0.state_dict())\n",
        "print(\"\\nAnd the original values for weights and bias are:\")\n",
        "print(f\"weights: {weight}, bias: {bias}\")"
      ],
      "metadata": {
        "colab": {
          "base_uri": "https://localhost:8080/"
        },
        "id": "Bbtms3kNrqDG",
        "outputId": "33e883d1-46cd-4422-f5fa-b6b01140cf18"
      },
      "execution_count": null,
      "outputs": [
        {
          "output_type": "stream",
          "name": "stdout",
          "text": [
            "The model learned the following values for weights and bias:\n",
            "OrderedDict([('weights', tensor([0.6934])), ('bias', tensor([0.2965]))])\n",
            "\n",
            "And the original values for weights and bias are:\n",
            "weights: 0.7, bias: 0.3\n"
          ]
        }
      ]
    },
    {
      "cell_type": "markdown",
      "source": [
        "### Saving and Loading the Models\n",
        "\n",
        "\n",
        "\n",
        "*   torch.save\n",
        "*   torch.load - loads everything\n",
        "*   torch.nn.Module.load_state_dict -loads params\n",
        "\n"
      ],
      "metadata": {
        "id": "rbFSnIMj14nY"
      }
    },
    {
      "cell_type": "code",
      "source": [
        "from pathlib import Path\n",
        "\n",
        "MODEL_PATH = Path(\"models\")\n",
        "MODEL_PATH.mkdir(parents=True, exist_ok=True)\n",
        "MODEL_NAME = \"01_pytorch_workflow_model_0.pth\"\n",
        "MODEL_SAVE_PATH = MODEL_PATH / MODEL_NAME\n",
        "torch.save(model_0.state_dict(), MODEL_SAVE_PATH)"
      ],
      "metadata": {
        "id": "bNBxdgoF3RK3"
      },
      "execution_count": null,
      "outputs": []
    },
    {
      "cell_type": "code",
      "source": [
        "loaded_model_0 = LinearRegression()\n",
        "\n",
        "loaded_model_0.load_state_dict(torch.load(f=MODEL_SAVE_PATH))\n",
        "loaded_model_0.eval()\n",
        "\n",
        "with torch.inference_mode():\n",
        "  loaded_model_0_preds = loaded_model_0(X_test)\n",
        "\n",
        "# Compare previous model predictions with loaded model predictions (these should be the same)\n",
        "y_preds == loaded_model_0_preds"
      ],
      "metadata": {
        "colab": {
          "base_uri": "https://localhost:8080/"
        },
        "id": "nMKNNoAX6mO2",
        "outputId": "886dadb9-6ab4-459b-e677-49ca75c58904"
      },
      "execution_count": null,
      "outputs": [
        {
          "output_type": "stream",
          "name": "stderr",
          "text": [
            "<ipython-input-18-6a42a86f4f92>:3: FutureWarning: You are using `torch.load` with `weights_only=False` (the current default value), which uses the default pickle module implicitly. It is possible to construct malicious pickle data which will execute arbitrary code during unpickling (See https://github.com/pytorch/pytorch/blob/main/SECURITY.md#untrusted-models for more details). In a future release, the default value for `weights_only` will be flipped to `True`. This limits the functions that could be executed during unpickling. Arbitrary objects will no longer be allowed to be loaded via this mode unless they are explicitly allowlisted by the user via `torch.serialization.add_safe_globals`. We recommend you start setting `weights_only=True` for any use case where you don't have full control of the loaded file. Please open an issue on GitHub for any issues related to this experimental feature.\n",
            "  loaded_model_0.load_state_dict(torch.load(f=MODEL_SAVE_PATH))\n"
          ]
        },
        {
          "output_type": "execute_result",
          "data": {
            "text/plain": [
              "tensor([[False],\n",
              "        [False],\n",
              "        [False],\n",
              "        [False],\n",
              "        [False],\n",
              "        [False],\n",
              "        [False],\n",
              "        [False],\n",
              "        [False],\n",
              "        [False]])"
            ]
          },
          "metadata": {},
          "execution_count": 18
        }
      ]
    }
  ]
}